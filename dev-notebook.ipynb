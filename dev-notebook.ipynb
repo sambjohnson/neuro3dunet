{
 "cells": [
  {
   "cell_type": "markdown",
   "id": "fc71373f",
   "metadata": {},
   "source": [
    "# Minimal working UNet"
   ]
  },
  {
   "cell_type": "markdown",
   "id": "521b1480",
   "metadata": {},
   "source": [
    "## 0. imports and data check"
   ]
  },
  {
   "cell_type": "code",
   "execution_count": 2,
   "id": "5cc5b631",
   "metadata": {
    "scrolled": true
   },
   "outputs": [],
   "source": [
    "import os\n",
    "import h5py # note: importing h5py multiple times can cause an error\n",
    "\n",
    "import numpy as np\n",
    "import pandas as pd\n",
    "\n",
    "import torch as t\n",
    "import torch.nn.functional as f\n",
    "\n",
    "from torch.utils.data import Dataset\n",
    "from torch.utils.data import DataLoader"
   ]
  },
  {
   "cell_type": "code",
   "execution_count": 3,
   "id": "49a4309f",
   "metadata": {},
   "outputs": [],
   "source": [
    "train_dir = 'data/h5/test'\n",
    "os.listdir(train_dir)\n",
    "train_subjects = os.listdir(train_dir)\n",
    "train_subject = train_subjects[0]"
   ]
  },
  {
   "cell_type": "code",
   "execution_count": 4,
   "id": "6077406e",
   "metadata": {},
   "outputs": [
    {
     "data": {
      "text/plain": [
       "((1, 256, 256, 256), (102, 256, 256, 256))"
      ]
     },
     "execution_count": 4,
     "metadata": {},
     "output_type": "execute_result"
    }
   ],
   "source": [
    "train_h5 = h5py.File(f'{train_dir}/{train_subject}', 'r')\n",
    "\n",
    "train_h5_raw_np = np.array(train_h5.get('raw'))\n",
    "train_h5_label_np = np.array(train_h5.get('label'))\n",
    "\n",
    "raw_shape = train_h5_raw_np.shape\n",
    "label_shape = train_h5_label_np.shape\n",
    "\n",
    "raw_shape, label_shape"
   ]
  },
  {
   "cell_type": "markdown",
   "id": "a2708154",
   "metadata": {},
   "source": [
    "## 1. Dataloader logic"
   ]
  },
  {
   "cell_type": "code",
   "execution_count": 5,
   "id": "38c0c3b1",
   "metadata": {},
   "outputs": [],
   "source": [
    "ordered_subject_list = sorted(os.listdir(train_dir))"
   ]
  },
  {
   "cell_type": "code",
   "execution_count": 12,
   "id": "8d8a6212",
   "metadata": {},
   "outputs": [],
   "source": [
    "class HDF5Dataset(Dataset):\n",
    "\n",
    "    \"\"\" A custom Dataset class to iterate over subjects.\n",
    "        This Dataset assumes that the data take the following form:\n",
    "            data_dir/\n",
    "                -- subject0.hdf5 (file with two datasets):\n",
    "                    -- x_name: 4D array\n",
    "                    -- y_name: 4D array\n",
    "                -- subject1.hdf5 ...\n",
    "                    -- ...\n",
    "        Note also that this directory should not contain any other files\n",
    "        besides h5 files for subjects intended to be included in this dataset.\n",
    "        -----\n",
    "        Arguments:\n",
    "            data_dir\n",
    "            x_name\n",
    "            y_name\n",
    "            ordered_subject_list\n",
    "        -----       \n",
    "        Returns:\n",
    "            Pytorch index-based Dataset where each sample is an x, y pair of tensors\n",
    "                corresponding to a 3D T1 scan and a 4D set of anatomical labels (one-hot)\n",
    "        \n",
    "    \"\"\"\n",
    "    \n",
    "    def __init__(self, \n",
    "                 data_dir, \n",
    "                 x_name=None,\n",
    "                 y_name=None,\n",
    "                 ordered_subject_list=None):\n",
    "        \n",
    "        self.data_dir = data_dir\n",
    "\n",
    "        # parse default args\n",
    "        x_name = 'raw' if x_name is None else x_name\n",
    "        y_name = 'label' if y_name is None else y_name\n",
    "        self.x_name = x_name\n",
    "        self.y_name = y_name\n",
    "        \n",
    "        # parse subject ordering, if specified\n",
    "        if ordered_subject_list is None:\n",
    "            ordered_subject_list = sorted(os.listdir(data_dir))\n",
    "        self.subjects = ordered_subject_list\n",
    "        \n",
    "\n",
    "    def __len__(self):\n",
    "        return len(self.subjects)\n",
    "    \n",
    "\n",
    "    def __getitem__(self, index):\n",
    "        subject = self.subjects[index]  # Select the current datapoint (subject)    \n",
    "        h5 = h5py.File(f'{self.data_dir}/{subject}', 'r')\n",
    "        \n",
    "        x_np = h5.get(self.x_name)\n",
    "        y_np = h5.get(self.y_name)\n",
    "        \n",
    "        x = t.from_numpy(np.array(x_np))\n",
    "        y = t.from_numpy(np.array(y_np))\n",
    "        \n",
    "        h5.close() # close the h5 file to avoid extra memory usage\n",
    "\n",
    "        # If necessary, apply any preprocessing or transformations to the data\n",
    "        # data = ...\n",
    "\n",
    "        return x, y"
   ]
  },
  {
   "cell_type": "code",
   "execution_count": 13,
   "id": "e48ca6a2",
   "metadata": {},
   "outputs": [],
   "source": [
    "ds = HDF5Dataset(data_dir=train_dir)"
   ]
  },
  {
   "cell_type": "code",
   "execution_count": null,
   "id": "4169c486",
   "metadata": {},
   "outputs": [],
   "source": [
    "xt, yt = ds[0]"
   ]
  },
  {
   "cell_type": "code",
   "execution_count": null,
   "id": "f1a8f9a7",
   "metadata": {},
   "outputs": [],
   "source": []
  },
  {
   "cell_type": "markdown",
   "id": "e51a8f47",
   "metadata": {},
   "source": [
    "## 2. Model"
   ]
  },
  {
   "cell_type": "code",
   "execution_count": null,
   "id": "a0f97a20",
   "metadata": {},
   "outputs": [],
   "source": []
  },
  {
   "cell_type": "markdown",
   "id": "7f5e3fb4",
   "metadata": {},
   "source": [
    "## 3. Training loop"
   ]
  },
  {
   "cell_type": "markdown",
   "id": "678722d6",
   "metadata": {},
   "source": [
    "## 4. Evaluation, visualizaitons, etc."
   ]
  },
  {
   "cell_type": "code",
   "execution_count": null,
   "id": "e3722b26",
   "metadata": {},
   "outputs": [],
   "source": []
  }
 ],
 "metadata": {
  "kernelspec": {
   "display_name": "Python [conda env:torch-ni-ny]",
   "language": "python",
   "name": "conda-env-torch-ni-ny-py"
  },
  "language_info": {
   "codemirror_mode": {
    "name": "ipython",
    "version": 3
   },
   "file_extension": ".py",
   "mimetype": "text/x-python",
   "name": "python",
   "nbconvert_exporter": "python",
   "pygments_lexer": "ipython3",
   "version": "3.9.7"
  }
 },
 "nbformat": 4,
 "nbformat_minor": 5
}
